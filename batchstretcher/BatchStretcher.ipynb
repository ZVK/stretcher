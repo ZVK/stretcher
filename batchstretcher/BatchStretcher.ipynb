{
 "cells": [
  {
   "cell_type": "code",
   "execution_count": 1,
   "metadata": {
    "collapsed": false,
    "scrolled": true
   },
   "outputs": [
    {
     "name": "stderr",
     "output_type": "stream",
     "text": [
      "C:\\Anaconda\\envs\\dadabots\\lib\\site-packages\\librosa\\core\\audio.py:37: UserWarning: Could not import scikits.samplerate. Falling back to scipy.signal\n",
      "  warnings.warn('Could not import scikits.samplerate. '\n"
     ]
    },
    {
     "data": {
      "text/plain": [
       "\"\\nif __name__ == '__main__':\\n    if len(sys.argv) > 0:\\n        # get the parameters\\n        parameters = process_arguments(sys.argv[1:])\\n        # Run the HPSS code\\n        batch_stretch(parameters['input_directory'],\\n                     parameters['output_file_prefix'],\\n                     parameters['speed'])\\n    else:\\n\""
      ]
     },
     "execution_count": 1,
     "metadata": {},
     "output_type": "execute_result"
    }
   ],
   "source": [
    "#!/usr/bin/env python\n",
    "'''CREATED:2013-12-08 14:28:34 by Brian McFee <brm2132@columbia.edu>\n",
    "Demonstration of phase vocoder time stretching.\n",
    "\n",
    "Batch processing functionality added 2/16/2016 by Zack Zukowski\n",
    "'''\n",
    "from __future__ import print_function\n",
    "\n",
    "import argparse\n",
    "import sys\n",
    "import librosa\n",
    "import os\n",
    "\n",
    "def get_all_audio_in(directory):\n",
    "    files = [];\n",
    "    for file in os.listdir(directory):\n",
    "        if file.endswith(\".wav\"):\n",
    "            print('found wav :', file)\n",
    "            files.append(file)\n",
    "        if file.endswith(\".mp3\"):\n",
    "            print('found mp3 :', file)\n",
    "            files.append(file)\n",
    "    return files\n",
    "\n",
    "def stretch(input_file, output_file, speed):\n",
    "    '''Phase-vocoder time stretch demo function.\n",
    "    :parameters:\n",
    "      - input_file : str\n",
    "          path to input audio\n",
    "      - output_file : str\n",
    "          path to save output (wav)\n",
    "      - speed : float > 0\n",
    "          speed up by this factor\n",
    "    '''\n",
    "    \n",
    "    # 1. Load the wav file, resample\n",
    "    print('Loading ', input_file)\n",
    "\n",
    "    y, sr = librosa.load(input_file)\n",
    "\n",
    "    # 2. Time-stretch through effects module\n",
    "    print('Playing back at speed', (speed * 100))\n",
    "\n",
    "    y_stretch = librosa.effects.time_stretch(y, speed)\n",
    "\n",
    "    print('Saving stretched audio to: ', output_file)\n",
    "    librosa.output.write_wav(output_file, y_stretch, sr)\n",
    "\n",
    "def batch_stretch(input_directory, output_file_prefix, speed):\n",
    "    files = get_all_audio_in(input_directory)\n",
    "    print(\"found these files:\", files)\n",
    "    for f in files:\n",
    "        print('stretching :', f)\n",
    "        stretch(f, output_file_prefix+f, speed)\n",
    "    \n",
    "def process_arguments(args):\n",
    "    '''Argparse function to get the program parameters'''\n",
    "\n",
    "    parser = argparse.ArgumentParser(description='Time stretching example')\n",
    "\n",
    "    parser.add_argument('input_file',\n",
    "                        action='store',\n",
    "                        help='path to the input file (wav, mp3, etc)')\n",
    "\n",
    "    parser.add_argument('output_file',\n",
    "                        action='store',\n",
    "                        help='path to the stretched output (wav)')\n",
    "\n",
    "    parser.add_argument('-s', '--speed',\n",
    "                        action='store',\n",
    "                        type=float,\n",
    "                        default=2.0,\n",
    "                        required=False,\n",
    "                        help='speed')\n",
    "\n",
    "    return vars(parser.parse_args(args))\n",
    "'''\n",
    "if __name__ == '__main__':\n",
    "    if len(sys.argv) > 0:\n",
    "        # get the parameters\n",
    "        parameters = process_arguments(sys.argv[1:])\n",
    "        # Run the HPSS code\n",
    "        batch_stretch(parameters['input_directory'],\n",
    "                     parameters['output_file_prefix'],\n",
    "                     parameters['speed'])\n",
    "    else:\n",
    "'''"
   ]
  },
  {
   "cell_type": "code",
   "execution_count": 3,
   "metadata": {
    "collapsed": false,
    "scrolled": true
   },
   "outputs": [
    {
     "name": "stdout",
     "output_type": "stream",
     "text": [
      "found mp3 : All_Blues.mp3\n",
      "found mp3 : A_Night_In_Tunisia.mp3\n",
      "found mp3 : Crazy.mp3\n",
      "found mp3 : Crazy_In_Love.mp3\n",
      "found mp3 : C_Jam_Blues.mp3\n",
      "found mp3 : Fighter.mp3\n",
      "found mp3 : Genius_of_Love.mp3\n",
      "found mp3 : Good_Times.mp3\n",
      "found mp3 : I_Wanna_Be_Sedated.mp3\n",
      "found mp3 : I_Want_You_Back.mp3\n",
      "found mp3 : Knock_On_Wood.mp3\n",
      "found mp3 : Mas_Que_Nada.mp3\n",
      "found mp3 : Rock_With_You.mp3\n",
      "found these files: ['All_Blues.mp3', 'A_Night_In_Tunisia.mp3', 'Crazy.mp3', 'Crazy_In_Love.mp3', 'C_Jam_Blues.mp3', 'Fighter.mp3', 'Genius_of_Love.mp3', 'Good_Times.mp3', 'I_Wanna_Be_Sedated.mp3', 'I_Want_You_Back.mp3', 'Knock_On_Wood.mp3', 'Mas_Que_Nada.mp3', 'Rock_With_You.mp3']\n",
      "stretching : All_Blues.mp3\n",
      "Loading  All_Blues.mp3\n",
      "Playing back at speed 50.0\n",
      "Saving stretched audio to:  pv0.5All_Blues.mp3\n",
      "stretching : A_Night_In_Tunisia.mp3\n",
      "Loading  A_Night_In_Tunisia.mp3\n",
      "Playing back at speed 50.0\n",
      "Saving stretched audio to:  pv0.5A_Night_In_Tunisia.mp3\n",
      "stretching : Crazy.mp3\n",
      "Loading  Crazy.mp3\n",
      "Playing back at speed 50.0\n",
      "Saving stretched audio to:  pv0.5Crazy.mp3\n",
      "stretching : Crazy_In_Love.mp3\n",
      "Loading  Crazy_In_Love.mp3\n",
      "Playing back at speed 50.0\n",
      "Saving stretched audio to:  pv0.5Crazy_In_Love.mp3\n",
      "stretching : C_Jam_Blues.mp3\n",
      "Loading  C_Jam_Blues.mp3\n",
      "Playing back at speed 50.0\n",
      "Saving stretched audio to:  pv0.5C_Jam_Blues.mp3\n",
      "stretching : Fighter.mp3\n",
      "Loading  Fighter.mp3\n",
      "Playing back at speed 50.0\n",
      "Saving stretched audio to:  pv0.5Fighter.mp3\n",
      "stretching : Genius_of_Love.mp3\n",
      "Loading  Genius_of_Love.mp3\n",
      "Playing back at speed 50.0\n",
      "Saving stretched audio to:  pv0.5Genius_of_Love.mp3\n",
      "stretching : Good_Times.mp3\n",
      "Loading  Good_Times.mp3\n",
      "Playing back at speed 50.0\n",
      "Saving stretched audio to:  pv0.5Good_Times.mp3\n",
      "stretching : I_Wanna_Be_Sedated.mp3\n",
      "Loading  I_Wanna_Be_Sedated.mp3\n",
      "Playing back at speed 50.0\n",
      "Saving stretched audio to:  pv0.5I_Wanna_Be_Sedated.mp3\n",
      "stretching : I_Want_You_Back.mp3\n",
      "Loading  I_Want_You_Back.mp3\n",
      "Playing back at speed 50.0\n",
      "Saving stretched audio to:  pv0.5I_Want_You_Back.mp3\n",
      "stretching : Knock_On_Wood.mp3\n",
      "Loading  Knock_On_Wood.mp3\n",
      "Playing back at speed 50.0\n",
      "Saving stretched audio to:  pv0.5Knock_On_Wood.mp3\n",
      "stretching : Mas_Que_Nada.mp3\n",
      "Loading  Mas_Que_Nada.mp3\n",
      "Playing back at speed 50.0\n",
      "Saving stretched audio to:  pv0.5Mas_Que_Nada.mp3\n",
      "stretching : Rock_With_You.mp3\n",
      "Loading  Rock_With_You.mp3\n",
      "Playing back at speed 50.0\n",
      "Saving stretched audio to:  pv0.5Rock_With_You.mp3\n"
     ]
    }
   ],
   "source": [
    "batch_stretch('./','pv0.5', 0.5)"
   ]
  },
  {
   "cell_type": "code",
   "execution_count": null,
   "metadata": {
    "collapsed": true
   },
   "outputs": [],
   "source": []
  }
 ],
 "metadata": {
  "kernelspec": {
   "display_name": "Python 2",
   "language": "python",
   "name": "python2"
  },
  "language_info": {
   "codemirror_mode": {
    "name": "ipython",
    "version": 2
   },
   "file_extension": ".py",
   "mimetype": "text/x-python",
   "name": "python",
   "nbconvert_exporter": "python",
   "pygments_lexer": "ipython2",
   "version": "2.7.11"
  }
 },
 "nbformat": 4,
 "nbformat_minor": 0
}
